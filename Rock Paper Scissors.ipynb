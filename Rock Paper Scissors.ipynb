{
  "nbformat": 4,
  "nbformat_minor": 0,
  "metadata": {
    "colab": {
      "provenance": []
    },
    "kernelspec": {
      "name": "python3",
      "display_name": "Python 3"
    },
    "language_info": {
      "name": "python"
    }
  },
  "cells": [
    {
      "cell_type": "code",
      "metadata": {
        "colab": {
          "base_uri": "https://localhost:8080/"
        },
        "id": "UOphFFw3ijCN",
        "outputId": "dd120777-4a03-495b-d87f-93f3b02fd2ea"
      },
      "source": [
        "import random\n",
        "\n",
        "def game():\n",
        "\n",
        "    n = 0\n",
        "    result = 0\n",
        "    userScore = 0\n",
        "    compScore = 0\n",
        "\n",
        "    while n < 3:\n",
        "      n = n+1\n",
        "      x = input(\"\\nEnter a choice (rock, paper, scissors): \")\n",
        "      actions = [\"rock\", \"paper\", \"scissors\"]\n",
        "\n",
        "      userChoice = x.lower()\n",
        "\n",
        "      if userChoice not in actions:\n",
        "        userChoice = input(\" Invalid input.\\n Enter a choice (rock, paper, scissors): \")\n",
        "\n",
        "      compChoice = random.choice(actions)\n",
        "\n",
        "      print(f\"You: {userChoice} \\nComputer: {compChoice}.\")\n",
        "\n",
        "      if userChoice == compChoice:\n",
        "        #it's a tie, no scores should be changed\n",
        "        pass\n",
        "      elif userChoice == \"rock\":\n",
        "          if compChoice == \"scissors\":\n",
        "              userScore += 1\n",
        "          elif compChoice == \"paper\":\n",
        "              compScore += 1\n",
        "      elif userChoice == \"paper\":\n",
        "          if compChoice == \"rock\":\n",
        "              userScore += 1\n",
        "          elif compChoice == \"scissors\":\n",
        "              compScore += 1\n",
        "      elif userChoice == \"scissors\":\n",
        "          if compChoice == \"paper\":\n",
        "              userScore += 1\n",
        "          elif compChoice == \"rock\":\n",
        "              compScore += 1\n",
        "\n",
        "    print(f\"\\nYou: {userScore} Computer: {compScore}.\\n\")\n",
        "\n",
        "    if userScore > compScore:\n",
        "      print(\"You WON!\")\n",
        "    elif compScore > userScore:\n",
        "      print(\"You LOSE!\")\n",
        "    else:\n",
        "      print(\"It's a TIE!\")\n",
        "\n",
        "    again()\n",
        "\n",
        "def again():\n",
        "    playAgain = input(\"\\nPlay again? (y/n): \")\n",
        "    if playAgain.lower() == \"y\":\n",
        "        game()\n",
        "    else:\n",
        "      return\n",
        "\n",
        "game()"
      ],
      "execution_count": 6,
      "outputs": [
        {
          "name": "stdout",
          "output_type": "stream",
          "text": [
            "\n",
            "Enter a choice (rock, paper, scissors): rock\n",
            "You: rock \n",
            "Computer: rock.\n",
            "\n",
            "Enter a choice (rock, paper, scissors): rock\n",
            "You: rock \n",
            "Computer: rock.\n",
            "\n",
            "Enter a choice (rock, paper, scissors): paper\n",
            "You: paper \n",
            "Computer: scissors.\n",
            "\n",
            "You: 0 Computer: 1.\n",
            "\n",
            "You LOSE!\n",
            "\n",
            "Play again? (y/n): n\n"
          ]
        }
      ]
    }
  ]
}